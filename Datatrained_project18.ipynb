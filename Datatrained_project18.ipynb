{
 "cells": [
  {
   "cell_type": "markdown",
   "metadata": {},
   "source": [
    "**Importing Libraries**"
   ]
  },
  {
   "cell_type": "code",
   "execution_count": 33,
   "metadata": {},
   "outputs": [],
   "source": [
    "import pandas as pd\n",
    "import numpy as np\n",
    "import seaborn as sns\n",
    "import matplotlib.pyplot as plt"
   ]
  },
  {
   "cell_type": "markdown",
   "metadata": {},
   "source": [
    "**Reading Data into Pandas DataFrame**"
   ]
  },
  {
   "cell_type": "code",
   "execution_count": 3,
   "metadata": {},
   "outputs": [],
   "source": [
    "df = pd.read_csv(r\"C:\\Users\\Administrator\\Downloads\\worldometer_snapshots_April18_to_May18.txt\")"
   ]
  },
  {
   "cell_type": "code",
   "execution_count": 4,
   "metadata": {},
   "outputs": [
    {
     "data": {
      "text/html": [
       "<div>\n",
       "<style scoped>\n",
       "    .dataframe tbody tr th:only-of-type {\n",
       "        vertical-align: middle;\n",
       "    }\n",
       "\n",
       "    .dataframe tbody tr th {\n",
       "        vertical-align: top;\n",
       "    }\n",
       "\n",
       "    .dataframe thead th {\n",
       "        text-align: right;\n",
       "    }\n",
       "</style>\n",
       "<table border=\"1\" class=\"dataframe\">\n",
       "  <thead>\n",
       "    <tr style=\"text-align: right;\">\n",
       "      <th></th>\n",
       "      <th>Date</th>\n",
       "      <th>Country</th>\n",
       "      <th>Population</th>\n",
       "      <th>Total Tests</th>\n",
       "      <th>Total Cases</th>\n",
       "      <th>Total Deaths</th>\n",
       "      <th>Total Recovered</th>\n",
       "      <th>Serious or Critical</th>\n",
       "      <th>Active Cases</th>\n",
       "    </tr>\n",
       "  </thead>\n",
       "  <tbody>\n",
       "    <tr>\n",
       "      <th>0</th>\n",
       "      <td>2020-04-18</td>\n",
       "      <td>USA</td>\n",
       "      <td>330774664</td>\n",
       "      <td>3722145.0</td>\n",
       "      <td>738792.0</td>\n",
       "      <td>39014.0</td>\n",
       "      <td>68269.0</td>\n",
       "      <td>13551.0</td>\n",
       "      <td>631509.0</td>\n",
       "    </tr>\n",
       "    <tr>\n",
       "      <th>1</th>\n",
       "      <td>2020-04-18</td>\n",
       "      <td>Russia</td>\n",
       "      <td>145927292</td>\n",
       "      <td>1831892.0</td>\n",
       "      <td>36793.0</td>\n",
       "      <td>313.0</td>\n",
       "      <td>3057.0</td>\n",
       "      <td>8.0</td>\n",
       "      <td>33423.0</td>\n",
       "    </tr>\n",
       "    <tr>\n",
       "      <th>2</th>\n",
       "      <td>2020-04-18</td>\n",
       "      <td>Spain</td>\n",
       "      <td>46752703</td>\n",
       "      <td>930230.0</td>\n",
       "      <td>194416.0</td>\n",
       "      <td>20043.0</td>\n",
       "      <td>74797.0</td>\n",
       "      <td>7371.0</td>\n",
       "      <td>99576.0</td>\n",
       "    </tr>\n",
       "    <tr>\n",
       "      <th>3</th>\n",
       "      <td>2020-04-18</td>\n",
       "      <td>Brazil</td>\n",
       "      <td>212380932</td>\n",
       "      <td>62985.0</td>\n",
       "      <td>36722.0</td>\n",
       "      <td>2361.0</td>\n",
       "      <td>14026.0</td>\n",
       "      <td>6634.0</td>\n",
       "      <td>20335.0</td>\n",
       "    </tr>\n",
       "    <tr>\n",
       "      <th>4</th>\n",
       "      <td>2020-04-18</td>\n",
       "      <td>UK</td>\n",
       "      <td>67844241</td>\n",
       "      <td>460437.0</td>\n",
       "      <td>114217.0</td>\n",
       "      <td>15464.0</td>\n",
       "      <td>NaN</td>\n",
       "      <td>1559.0</td>\n",
       "      <td>98409.0</td>\n",
       "    </tr>\n",
       "  </tbody>\n",
       "</table>\n",
       "</div>"
      ],
      "text/plain": [
       "         Date Country  Population  Total Tests  Total Cases  Total Deaths  \\\n",
       "0  2020-04-18     USA   330774664    3722145.0     738792.0       39014.0   \n",
       "1  2020-04-18  Russia   145927292    1831892.0      36793.0         313.0   \n",
       "2  2020-04-18   Spain    46752703     930230.0     194416.0       20043.0   \n",
       "3  2020-04-18  Brazil   212380932      62985.0      36722.0        2361.0   \n",
       "4  2020-04-18      UK    67844241     460437.0     114217.0       15464.0   \n",
       "\n",
       "   Total Recovered  Serious or Critical  Active Cases  \n",
       "0          68269.0              13551.0      631509.0  \n",
       "1           3057.0                  8.0       33423.0  \n",
       "2          74797.0               7371.0       99576.0  \n",
       "3          14026.0               6634.0       20335.0  \n",
       "4              NaN               1559.0       98409.0  "
      ]
     },
     "execution_count": 4,
     "metadata": {},
     "output_type": "execute_result"
    }
   ],
   "source": [
    "df.head()"
   ]
  },
  {
   "cell_type": "markdown",
   "metadata": {},
   "source": [
    "**Checking Data Shape**"
   ]
  },
  {
   "cell_type": "code",
   "execution_count": 5,
   "metadata": {},
   "outputs": [
    {
     "name": "stdout",
     "output_type": "stream",
     "text": [
      "(6603, 9)\n"
     ]
    }
   ],
   "source": [
    "print(df.shape)"
   ]
  },
  {
   "cell_type": "markdown",
   "metadata": {},
   "source": [
    "**Checking Data Types**"
   ]
  },
  {
   "cell_type": "code",
   "execution_count": 6,
   "metadata": {},
   "outputs": [
    {
     "data": {
      "text/plain": [
       "Date                    object\n",
       "Country                 object\n",
       "Population               int64\n",
       "Total Tests            float64\n",
       "Total Cases            float64\n",
       "Total Deaths           float64\n",
       "Total Recovered        float64\n",
       "Serious or Critical    float64\n",
       "Active Cases           float64\n",
       "dtype: object"
      ]
     },
     "execution_count": 6,
     "metadata": {},
     "output_type": "execute_result"
    }
   ],
   "source": [
    "df.dtypes"
   ]
  },
  {
   "cell_type": "markdown",
   "metadata": {},
   "source": [
    "**Checking and Dealing with Missing Data** "
   ]
  },
  {
   "cell_type": "code",
   "execution_count": 7,
   "metadata": {},
   "outputs": [
    {
     "data": {
      "text/html": [
       "<div>\n",
       "<style scoped>\n",
       "    .dataframe tbody tr th:only-of-type {\n",
       "        vertical-align: middle;\n",
       "    }\n",
       "\n",
       "    .dataframe tbody tr th {\n",
       "        vertical-align: top;\n",
       "    }\n",
       "\n",
       "    .dataframe thead th {\n",
       "        text-align: right;\n",
       "    }\n",
       "</style>\n",
       "<table border=\"1\" class=\"dataframe\">\n",
       "  <thead>\n",
       "    <tr style=\"text-align: right;\">\n",
       "      <th></th>\n",
       "      <th>Date</th>\n",
       "      <th>Country</th>\n",
       "      <th>Population</th>\n",
       "      <th>Total Tests</th>\n",
       "      <th>Total Cases</th>\n",
       "      <th>Total Deaths</th>\n",
       "      <th>Total Recovered</th>\n",
       "      <th>Serious or Critical</th>\n",
       "      <th>Active Cases</th>\n",
       "    </tr>\n",
       "  </thead>\n",
       "  <tbody>\n",
       "    <tr>\n",
       "      <th>0</th>\n",
       "      <td>False</td>\n",
       "      <td>False</td>\n",
       "      <td>False</td>\n",
       "      <td>False</td>\n",
       "      <td>False</td>\n",
       "      <td>False</td>\n",
       "      <td>False</td>\n",
       "      <td>False</td>\n",
       "      <td>False</td>\n",
       "    </tr>\n",
       "    <tr>\n",
       "      <th>1</th>\n",
       "      <td>False</td>\n",
       "      <td>False</td>\n",
       "      <td>False</td>\n",
       "      <td>False</td>\n",
       "      <td>False</td>\n",
       "      <td>False</td>\n",
       "      <td>False</td>\n",
       "      <td>False</td>\n",
       "      <td>False</td>\n",
       "    </tr>\n",
       "    <tr>\n",
       "      <th>2</th>\n",
       "      <td>False</td>\n",
       "      <td>False</td>\n",
       "      <td>False</td>\n",
       "      <td>False</td>\n",
       "      <td>False</td>\n",
       "      <td>False</td>\n",
       "      <td>False</td>\n",
       "      <td>False</td>\n",
       "      <td>False</td>\n",
       "    </tr>\n",
       "    <tr>\n",
       "      <th>3</th>\n",
       "      <td>False</td>\n",
       "      <td>False</td>\n",
       "      <td>False</td>\n",
       "      <td>False</td>\n",
       "      <td>False</td>\n",
       "      <td>False</td>\n",
       "      <td>False</td>\n",
       "      <td>False</td>\n",
       "      <td>False</td>\n",
       "    </tr>\n",
       "    <tr>\n",
       "      <th>4</th>\n",
       "      <td>False</td>\n",
       "      <td>False</td>\n",
       "      <td>False</td>\n",
       "      <td>False</td>\n",
       "      <td>False</td>\n",
       "      <td>False</td>\n",
       "      <td>True</td>\n",
       "      <td>False</td>\n",
       "      <td>False</td>\n",
       "    </tr>\n",
       "    <tr>\n",
       "      <th>5</th>\n",
       "      <td>False</td>\n",
       "      <td>False</td>\n",
       "      <td>False</td>\n",
       "      <td>False</td>\n",
       "      <td>False</td>\n",
       "      <td>False</td>\n",
       "      <td>False</td>\n",
       "      <td>False</td>\n",
       "      <td>False</td>\n",
       "    </tr>\n",
       "    <tr>\n",
       "      <th>6</th>\n",
       "      <td>False</td>\n",
       "      <td>False</td>\n",
       "      <td>False</td>\n",
       "      <td>False</td>\n",
       "      <td>False</td>\n",
       "      <td>False</td>\n",
       "      <td>False</td>\n",
       "      <td>False</td>\n",
       "      <td>False</td>\n",
       "    </tr>\n",
       "    <tr>\n",
       "      <th>7</th>\n",
       "      <td>False</td>\n",
       "      <td>False</td>\n",
       "      <td>False</td>\n",
       "      <td>False</td>\n",
       "      <td>False</td>\n",
       "      <td>False</td>\n",
       "      <td>False</td>\n",
       "      <td>False</td>\n",
       "      <td>False</td>\n",
       "    </tr>\n",
       "    <tr>\n",
       "      <th>8</th>\n",
       "      <td>False</td>\n",
       "      <td>False</td>\n",
       "      <td>False</td>\n",
       "      <td>False</td>\n",
       "      <td>False</td>\n",
       "      <td>False</td>\n",
       "      <td>False</td>\n",
       "      <td>False</td>\n",
       "      <td>False</td>\n",
       "    </tr>\n",
       "    <tr>\n",
       "      <th>9</th>\n",
       "      <td>False</td>\n",
       "      <td>False</td>\n",
       "      <td>False</td>\n",
       "      <td>False</td>\n",
       "      <td>False</td>\n",
       "      <td>False</td>\n",
       "      <td>False</td>\n",
       "      <td>False</td>\n",
       "      <td>False</td>\n",
       "    </tr>\n",
       "    <tr>\n",
       "      <th>10</th>\n",
       "      <td>False</td>\n",
       "      <td>False</td>\n",
       "      <td>False</td>\n",
       "      <td>False</td>\n",
       "      <td>False</td>\n",
       "      <td>False</td>\n",
       "      <td>False</td>\n",
       "      <td>True</td>\n",
       "      <td>False</td>\n",
       "    </tr>\n",
       "    <tr>\n",
       "      <th>11</th>\n",
       "      <td>False</td>\n",
       "      <td>False</td>\n",
       "      <td>False</td>\n",
       "      <td>False</td>\n",
       "      <td>False</td>\n",
       "      <td>False</td>\n",
       "      <td>False</td>\n",
       "      <td>False</td>\n",
       "      <td>False</td>\n",
       "    </tr>\n",
       "    <tr>\n",
       "      <th>12</th>\n",
       "      <td>False</td>\n",
       "      <td>False</td>\n",
       "      <td>False</td>\n",
       "      <td>True</td>\n",
       "      <td>False</td>\n",
       "      <td>False</td>\n",
       "      <td>False</td>\n",
       "      <td>False</td>\n",
       "      <td>False</td>\n",
       "    </tr>\n",
       "    <tr>\n",
       "      <th>13</th>\n",
       "      <td>False</td>\n",
       "      <td>False</td>\n",
       "      <td>False</td>\n",
       "      <td>False</td>\n",
       "      <td>False</td>\n",
       "      <td>False</td>\n",
       "      <td>False</td>\n",
       "      <td>False</td>\n",
       "      <td>False</td>\n",
       "    </tr>\n",
       "    <tr>\n",
       "      <th>14</th>\n",
       "      <td>False</td>\n",
       "      <td>False</td>\n",
       "      <td>False</td>\n",
       "      <td>False</td>\n",
       "      <td>False</td>\n",
       "      <td>False</td>\n",
       "      <td>False</td>\n",
       "      <td>False</td>\n",
       "      <td>False</td>\n",
       "    </tr>\n",
       "  </tbody>\n",
       "</table>\n",
       "</div>"
      ],
      "text/plain": [
       "     Date  Country  Population  Total Tests  Total Cases  Total Deaths  \\\n",
       "0   False    False       False        False        False         False   \n",
       "1   False    False       False        False        False         False   \n",
       "2   False    False       False        False        False         False   \n",
       "3   False    False       False        False        False         False   \n",
       "4   False    False       False        False        False         False   \n",
       "5   False    False       False        False        False         False   \n",
       "6   False    False       False        False        False         False   \n",
       "7   False    False       False        False        False         False   \n",
       "8   False    False       False        False        False         False   \n",
       "9   False    False       False        False        False         False   \n",
       "10  False    False       False        False        False         False   \n",
       "11  False    False       False        False        False         False   \n",
       "12  False    False       False         True        False         False   \n",
       "13  False    False       False        False        False         False   \n",
       "14  False    False       False        False        False         False   \n",
       "\n",
       "    Total Recovered  Serious or Critical  Active Cases  \n",
       "0             False                False         False  \n",
       "1             False                False         False  \n",
       "2             False                False         False  \n",
       "3             False                False         False  \n",
       "4              True                False         False  \n",
       "5             False                False         False  \n",
       "6             False                False         False  \n",
       "7             False                False         False  \n",
       "8             False                False         False  \n",
       "9             False                False         False  \n",
       "10            False                 True         False  \n",
       "11            False                False         False  \n",
       "12            False                False         False  \n",
       "13            False                False         False  \n",
       "14            False                False         False  "
      ]
     },
     "execution_count": 7,
     "metadata": {},
     "output_type": "execute_result"
    }
   ],
   "source": [
    "missing_data = df.isnull()\n",
    "missing_data.head(15)"
   ]
  },
  {
   "cell_type": "code",
   "execution_count": 8,
   "metadata": {},
   "outputs": [],
   "source": [
    "df.dropna( axis=0, inplace=True)\n",
    "df.reset_index(drop=True, inplace=True)"
   ]
  },
  {
   "cell_type": "markdown",
   "metadata": {},
   "source": [
    "**Checking And Fixing Skewnness**"
   ]
  },
  {
   "cell_type": "code",
   "execution_count": 9,
   "metadata": {},
   "outputs": [
    {
     "data": {
      "text/plain": [
       "Population             3.114406\n",
       "Total Tests            7.163919\n",
       "Total Cases            9.144735\n",
       "Total Deaths           7.241007\n",
       "Total Recovered        5.553082\n",
       "Serious or Critical    6.756066\n",
       "Active Cases           9.985893\n",
       "dtype: float64"
      ]
     },
     "execution_count": 9,
     "metadata": {},
     "output_type": "execute_result"
    }
   ],
   "source": [
    "df.skew(axis=0,skipna=True)"
   ]
  },
  {
   "cell_type": "code",
   "execution_count": 10,
   "metadata": {},
   "outputs": [
    {
     "data": {
      "text/plain": [
       "-0.5536649496348182"
      ]
     },
     "execution_count": 10,
     "metadata": {},
     "output_type": "execute_result"
    }
   ],
   "source": [
    "Total_Tests_log = np.log(df['Total Tests'])\n",
    "Total_Tests_log.skew()"
   ]
  },
  {
   "cell_type": "code",
   "execution_count": 11,
   "metadata": {},
   "outputs": [
    {
     "data": {
      "text/plain": [
       "0.043961372403283336"
      ]
     },
     "execution_count": 11,
     "metadata": {},
     "output_type": "execute_result"
    }
   ],
   "source": [
    "Total_Cases_log = np.log(df['Total Cases'])\n",
    "Total_Cases_log.skew()"
   ]
  },
  {
   "cell_type": "markdown",
   "metadata": {},
   "source": [
    "**Corelation**"
   ]
  },
  {
   "cell_type": "code",
   "execution_count": 12,
   "metadata": {},
   "outputs": [
    {
     "data": {
      "text/html": [
       "<div>\n",
       "<style scoped>\n",
       "    .dataframe tbody tr th:only-of-type {\n",
       "        vertical-align: middle;\n",
       "    }\n",
       "\n",
       "    .dataframe tbody tr th {\n",
       "        vertical-align: top;\n",
       "    }\n",
       "\n",
       "    .dataframe thead th {\n",
       "        text-align: right;\n",
       "    }\n",
       "</style>\n",
       "<table border=\"1\" class=\"dataframe\">\n",
       "  <thead>\n",
       "    <tr style=\"text-align: right;\">\n",
       "      <th></th>\n",
       "      <th>Population</th>\n",
       "      <th>Total Tests</th>\n",
       "      <th>Total Cases</th>\n",
       "      <th>Total Deaths</th>\n",
       "      <th>Total Recovered</th>\n",
       "      <th>Serious or Critical</th>\n",
       "      <th>Active Cases</th>\n",
       "    </tr>\n",
       "  </thead>\n",
       "  <tbody>\n",
       "    <tr>\n",
       "      <th>Population</th>\n",
       "      <td>1.000000</td>\n",
       "      <td>0.571506</td>\n",
       "      <td>0.610035</td>\n",
       "      <td>0.542677</td>\n",
       "      <td>0.512286</td>\n",
       "      <td>0.663715</td>\n",
       "      <td>0.599638</td>\n",
       "    </tr>\n",
       "    <tr>\n",
       "      <th>Total Tests</th>\n",
       "      <td>0.571506</td>\n",
       "      <td>1.000000</td>\n",
       "      <td>0.901143</td>\n",
       "      <td>0.822011</td>\n",
       "      <td>0.821648</td>\n",
       "      <td>0.745462</td>\n",
       "      <td>0.861574</td>\n",
       "    </tr>\n",
       "    <tr>\n",
       "      <th>Total Cases</th>\n",
       "      <td>0.610035</td>\n",
       "      <td>0.901143</td>\n",
       "      <td>1.000000</td>\n",
       "      <td>0.945894</td>\n",
       "      <td>0.834441</td>\n",
       "      <td>0.893691</td>\n",
       "      <td>0.979611</td>\n",
       "    </tr>\n",
       "    <tr>\n",
       "      <th>Total Deaths</th>\n",
       "      <td>0.542677</td>\n",
       "      <td>0.822011</td>\n",
       "      <td>0.945894</td>\n",
       "      <td>1.000000</td>\n",
       "      <td>0.849554</td>\n",
       "      <td>0.852833</td>\n",
       "      <td>0.896553</td>\n",
       "    </tr>\n",
       "    <tr>\n",
       "      <th>Total Recovered</th>\n",
       "      <td>0.512286</td>\n",
       "      <td>0.821648</td>\n",
       "      <td>0.834441</td>\n",
       "      <td>0.849554</td>\n",
       "      <td>1.000000</td>\n",
       "      <td>0.740360</td>\n",
       "      <td>0.707767</td>\n",
       "    </tr>\n",
       "    <tr>\n",
       "      <th>Serious or Critical</th>\n",
       "      <td>0.663715</td>\n",
       "      <td>0.745462</td>\n",
       "      <td>0.893691</td>\n",
       "      <td>0.852833</td>\n",
       "      <td>0.740360</td>\n",
       "      <td>1.000000</td>\n",
       "      <td>0.876725</td>\n",
       "    </tr>\n",
       "    <tr>\n",
       "      <th>Active Cases</th>\n",
       "      <td>0.599638</td>\n",
       "      <td>0.861574</td>\n",
       "      <td>0.979611</td>\n",
       "      <td>0.896553</td>\n",
       "      <td>0.707767</td>\n",
       "      <td>0.876725</td>\n",
       "      <td>1.000000</td>\n",
       "    </tr>\n",
       "  </tbody>\n",
       "</table>\n",
       "</div>"
      ],
      "text/plain": [
       "                     Population  Total Tests  Total Cases  Total Deaths  \\\n",
       "Population             1.000000     0.571506     0.610035      0.542677   \n",
       "Total Tests            0.571506     1.000000     0.901143      0.822011   \n",
       "Total Cases            0.610035     0.901143     1.000000      0.945894   \n",
       "Total Deaths           0.542677     0.822011     0.945894      1.000000   \n",
       "Total Recovered        0.512286     0.821648     0.834441      0.849554   \n",
       "Serious or Critical    0.663715     0.745462     0.893691      0.852833   \n",
       "Active Cases           0.599638     0.861574     0.979611      0.896553   \n",
       "\n",
       "                     Total Recovered  Serious or Critical  Active Cases  \n",
       "Population                  0.512286             0.663715      0.599638  \n",
       "Total Tests                 0.821648             0.745462      0.861574  \n",
       "Total Cases                 0.834441             0.893691      0.979611  \n",
       "Total Deaths                0.849554             0.852833      0.896553  \n",
       "Total Recovered             1.000000             0.740360      0.707767  \n",
       "Serious or Critical         0.740360             1.000000      0.876725  \n",
       "Active Cases                0.707767             0.876725      1.000000  "
      ]
     },
     "execution_count": 12,
     "metadata": {},
     "output_type": "execute_result"
    }
   ],
   "source": [
    "df.corr()"
   ]
  },
  {
   "cell_type": "markdown",
   "metadata": {},
   "source": [
    "**Visualzations**"
   ]
  },
  {
   "cell_type": "code",
   "execution_count": 14,
   "metadata": {},
   "outputs": [
    {
     "data": {
      "text/plain": [
       "<matplotlib.axes._subplots.AxesSubplot at 0x2dea25a5f08>"
      ]
     },
     "execution_count": 14,
     "metadata": {},
     "output_type": "execute_result"
    },
    {
     "data": {
      "image/png": "[encoded data removed]",
      "text/plain": [
       "<Figure size 432x288 with 1 Axes>"
      ]
     },
     "metadata": {
      "needs_background": "light"
     },
     "output_type": "display_data"
    }
   ],
   "source": [
    "sns.regplot(x=\"Total Tests\", y=\"Total Deaths\", data=df)"
   ]
  },
  {
   "cell_type": "code",
   "execution_count": 17,
   "metadata": {},
   "outputs": [
    {
     "data": {
      "text/plain": [
       "<matplotlib.axes._subplots.AxesSubplot at 0x2dea2e76348>"
      ]
     },
     "execution_count": 17,
     "metadata": {},
     "output_type": "execute_result"
    },
    {
     "data": {
      "image/png": "[encoded data removed]",
      "text/plain": [
       "<Figure size 432x288 with 1 Axes>"
      ]
     },
     "metadata": {
      "needs_background": "light"
     },
     "output_type": "display_data"
    }
   ],
   "source": [
    "sns.regplot(x=\"Total Cases\", y=\"Total Deaths\", data=df)"
   ]
  },
  {
   "cell_type": "code",
   "execution_count": 18,
   "metadata": {},
   "outputs": [
    {
     "data": {
      "text/plain": [
       "<matplotlib.axes._subplots.AxesSubplot at 0x2dea2eebd08>"
      ]
     },
     "execution_count": 18,
     "metadata": {},
     "output_type": "execute_result"
    },
    {
     "data": {
      "image/png": "[encoded data removed]",
      "text/plain": [
       "<Figure size 432x288 with 1 Axes>"
      ]
     },
     "metadata": {
      "needs_background": "light"
     },
     "output_type": "display_data"
    }
   ],
   "source": [
    "sns.regplot(x=\"Serious or Critical\", y=\"Total Deaths\", data=df)"
   ]
  },
  {
   "cell_type": "markdown",
   "metadata": {},
   "source": [
    "**Defining Data and Deviding into Training and Test sets**"
   ]
  },
  {
   "cell_type": "code",
   "execution_count": 13,
   "metadata": {},
   "outputs": [],
   "source": [
    "y_data = df['Total Deaths']\n",
    "x_data = df[['Total Tests','Total Cases','Serious or Critical']]"
   ]
  },
  {
   "cell_type": "code",
   "execution_count": 14,
   "metadata": {},
   "outputs": [
    {
     "name": "stdout",
     "output_type": "stream",
     "text": [
      "number of test samples : 352\n",
      "number of training samples: 3162\n"
     ]
    }
   ],
   "source": [
    "from sklearn.model_selection import train_test_split\n",
    "\n",
    "\n",
    "x_train, x_test, y_train, y_test = train_test_split(x_data, y_data, test_size=0.1, random_state=1)\n",
    "\n",
    "\n",
    "print(\"number of test samples :\", x_test.shape[0])\n",
    "print(\"number of training samples:\",x_train.shape[0])"
   ]
  },
  {
   "cell_type": "markdown",
   "metadata": {},
   "source": [
    "**Building,Fitting and evaluation of different Models**"
   ]
  },
  {
   "cell_type": "code",
   "execution_count": 15,
   "metadata": {},
   "outputs": [],
   "source": [
    "from sklearn.linear_model import LinearRegression"
   ]
  },
  {
   "cell_type": "code",
   "execution_count": 16,
   "metadata": {},
   "outputs": [],
   "source": [
    "lre=LinearRegression()"
   ]
  },
  {
   "cell_type": "code",
   "execution_count": 17,
   "metadata": {},
   "outputs": [
    {
     "data": {
      "text/plain": [
       "LinearRegression(copy_X=True, fit_intercept=True, n_jobs=None, normalize=False)"
      ]
     },
     "execution_count": 17,
     "metadata": {},
     "output_type": "execute_result"
    }
   ],
   "source": [
    "lre.fit(x_train,y_train)"
   ]
  },
  {
   "cell_type": "code",
   "execution_count": 18,
   "metadata": {},
   "outputs": [
    {
     "data": {
      "text/plain": [
       "0.8824044623790869"
      ]
     },
     "execution_count": 18,
     "metadata": {},
     "output_type": "execute_result"
    }
   ],
   "source": [
    "lre.score(x_test,y_test)"
   ]
  },
  {
   "cell_type": "code",
   "execution_count": 19,
   "metadata": {},
   "outputs": [],
   "source": [
    "from sklearn.preprocessing import PolynomialFeatures\n",
    "from sklearn import linear_model"
   ]
  },
  {
   "cell_type": "code",
   "execution_count": 20,
   "metadata": {},
   "outputs": [
    {
     "data": {
      "text/plain": [
       "array([[1.00000000e+00, 1.36518000e+05, 1.10360000e+04, ...,\n",
       "        6.78339941e+12, 1.45060009e+11, 3.10204442e+09],\n",
       "       [1.00000000e+00, 5.20000000e+03, 1.31200000e+03, ...,\n",
       "        1.39428864e+08, 9.56448000e+05, 6.56100000e+03],\n",
       "       [1.00000000e+00, 7.72781100e+06, 1.23763300e+06, ...,\n",
       "        4.00947132e+20, 5.24139519e+18, 6.85183191e+16],\n",
       "       ...,\n",
       "       [1.00000000e+00, 2.90300000e+03, 3.08000000e+02, ...,\n",
       "        4.59141760e+07, 3.27958400e+06, 2.34256000e+05],\n",
       "       [1.00000000e+00, 3.24530000e+04, 1.01280000e+04, ...,\n",
       "        1.57721448e+12, 1.93102879e+10, 2.36421376e+08],\n",
       "       [1.00000000e+00, 2.68220000e+04, 1.56500000e+03, ...,\n",
       "        3.91876000e+07, 1.00160000e+05, 2.56000000e+02]])"
      ]
     },
     "execution_count": 20,
     "metadata": {},
     "output_type": "execute_result"
    }
   ],
   "source": [
    "poly = PolynomialFeatures(degree=4)\n",
    "train_x_poly = poly.fit_transform(x_train)\n",
    "train_x_poly"
   ]
  },
  {
   "cell_type": "code",
   "execution_count": 21,
   "metadata": {},
   "outputs": [
    {
     "data": {
      "text/plain": [
       "LinearRegression(copy_X=True, fit_intercept=True, n_jobs=None, normalize=False)"
      ]
     },
     "execution_count": 21,
     "metadata": {},
     "output_type": "execute_result"
    }
   ],
   "source": [
    "plre = linear_model.LinearRegression()\n",
    "plre.fit(train_x_poly,y_train)\n"
   ]
  },
  {
   "cell_type": "code",
   "execution_count": 22,
   "metadata": {},
   "outputs": [
    {
     "name": "stdout",
     "output_type": "stream",
     "text": [
      "The R-square is:  0.8864196159036867\n"
     ]
    }
   ],
   "source": [
    "plre.fit(x_test, y_test)\n",
    "print('The R-square is: ', plre.score(x_test, y_test))"
   ]
  },
  {
   "cell_type": "markdown",
   "metadata": {},
   "source": [
    "**Checking Overfitting or Underfitting**"
   ]
  },
  {
   "cell_type": "code",
   "execution_count": 26,
   "metadata": {},
   "outputs": [],
   "source": [
    "from scipy.stats import norm"
   ]
  },
  {
   "cell_type": "code",
   "execution_count": 36,
   "metadata": {},
   "outputs": [],
   "source": [
    "def DistributionPlot(RedFunction, BlueFunction, RedName, BlueName, Title):\n",
    "    width = 12\n",
    "    height = 10\n",
    "    plt.figure(figsize=(width, height))\n",
    "\n",
    "    ax1 = sns.distplot(RedFunction,  color=\"r\", label=RedName,kde = False)\n",
    "    ax2 = sns.distplot(BlueFunction,  color=\"b\", label=BlueName, ax=ax1,kde = False)\n",
    "\n",
    "    plt.title(Title)\n",
    "    plt.show()\n",
    "    plt.close()"
   ]
  },
  {
   "cell_type": "code",
   "execution_count": 38,
   "metadata": {},
   "outputs": [
    {
     "data": {
      "text/plain": [
       "array([  815.63836863,   304.28231669, 78064.84111763,   217.8634402 ,\n",
       "         280.27274666])"
      ]
     },
     "execution_count": 38,
     "metadata": {},
     "output_type": "execute_result"
    }
   ],
   "source": [
    "yhat_train = lre.predict(x_train)\n",
    "yhat_train[0:5]\n"
   ]
  },
  {
   "cell_type": "code",
   "execution_count": 39,
   "metadata": {},
   "outputs": [
    {
     "data": {
      "image/png": "[encoded data removed]",
      "text/plain": [
       "<Figure size 864x720 with 1 Axes>"
      ]
     },
     "metadata": {
      "needs_background": "light"
     },
     "output_type": "display_data"
    }
   ],
   "source": [
    "Title = 'Distribution  Plot of  Predicted Value Using Training Data vs Training Data Distribution'\n",
    "DistributionPlot(y_train, yhat_train, \"Actual Values (Train)\", \"Predicted Values (Train)\", Title)"
   ]
  },
  {
   "cell_type": "code",
   "execution_count": 25,
   "metadata": {},
   "outputs": [
    {
     "data": {
      "text/plain": [
       "array([ 598.99696389,  712.2397239 ,  211.35302617, -415.18552447,\n",
       "        222.5480425 ])"
      ]
     },
     "execution_count": 25,
     "metadata": {},
     "output_type": "execute_result"
    }
   ],
   "source": [
    "yhat_test = lre.predict(x_test)\n",
    "yhat_test[0:5]"
   ]
  },
  {
   "cell_type": "code",
   "execution_count": 40,
   "metadata": {},
   "outputs": [
    {
     "data": {
      "image/png": "[encoded data removed]",
      "text/plain": [
       "<Figure size 864x720 with 1 Axes>"
      ]
     },
     "metadata": {
      "needs_background": "light"
     },
     "output_type": "display_data"
    }
   ],
   "source": [
    "Title = 'Distribution  Plot of  Predicted Value Using Testing Data vs Testing Data Distribution'\n",
    "DistributionPlot(y_test, yhat_test, \"Actual Values (Test)\", \"Predicted Values (Test)\", Title)"
   ]
  },
  {
   "cell_type": "code",
   "execution_count": null,
   "metadata": {},
   "outputs": [],
   "source": []
  }
 ],
 "metadata": {
  "kernelspec": {
   "display_name": "Python 3",
   "language": "python",
   "name": "python3"
  },
  "language_info": {
   "codemirror_mode": {
    "name": "ipython",
    "version": 3
   },
   "file_extension": ".py",
   "mimetype": "text/x-python",
   "name": "python",
   "nbconvert_exporter": "python",
   "pygments_lexer": "ipython3",
   "version": "3.7.6"
  }
 },
 "nbformat": 4,
 "nbformat_minor": 4
}
